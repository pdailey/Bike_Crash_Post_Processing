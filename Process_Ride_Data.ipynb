{
 "cells": [
  {
   "cell_type": "markdown",
   "metadata": {},
   "source": [
    "# Open Files \n",
    "Open the files for processing. Create a save directory using the timestamp from the calibration CSV. "
   ]
  },
  {
   "cell_type": "code",
   "execution_count": 1,
   "metadata": {
    "collapsed": false
   },
   "outputs": [
    {
     "name": "stdout",
     "output_type": "stream",
     "text": [
      "BEGIN PROCESSING DATA\n",
      "Data processed on 05/31/2016 at 15:22:37\n"
     ]
    }
   ],
   "source": [
    "import os\n",
    "import fnmatch\n",
    "from pathlib import *\n",
    "import arrow\n",
    "\n",
    "# Set true to graph the data using R\n",
    "graphing = False\n",
    "\n",
    "# Set the the packet rates\n",
    "pkt_Hz = 20 #position packet update rate Hz\n",
    "gps_Hz = 5  #gps update rate Hz\n",
    "\n",
    "# Expected files from a single ride\n",
    "logs = [\"calibration.csv\", \\\n",
    "        \"cadence.csv\",\\\n",
    "        \"front_brake.csv\", \\\n",
    "        \"rear_brake.csv\", \\\n",
    "        \"imu.csv\", \\\n",
    "        \"steering.csv\", \\\n",
    "        \"wheelspeed.csv\"]\n",
    "\n",
    "# Directories to organize data\n",
    "p = Path('.').resolve()\n",
    "\n",
    "open_dir = '_Unprocessed_Data'\n",
    "save_dir = '_Processed_Data'\n",
    "temp_dir = '_temp'\n",
    "\n",
    "# Set Default Datetime to name folder where logs are stored\n",
    "now = arrow.utcnow().to(\"US/Pacific\")\n",
    "print(\"BEGIN PROCESSING DATA\")\n",
    "print(\"Data processed on {} at {}\".format(now.format('MM/DD/YYYY'), now.format('HH:mm:ss')))\n",
    "\n",
    "now = str(now.format('MM.DD.YYYY@HH.mm'))\n",
    "\n",
    "'''\n",
    "# TODO: IMPLEMENT WITH RTC ONBOARD. This will change the order of the \n",
    "# Get the time that the ride took place from the calibration \n",
    "# routine and make a save directory for the files\n",
    "for file in os.listdir(str(open_path)):\n",
    "    if fnmatch.fnmatch(file, \"*\" + logs[0]):\n",
    "        d = os.path.basename(file).split('_')[0]\n",
    "'''\n",
    "\n",
    "open_path = p / open_dir\n",
    "temp_path = p / temp_dir\n",
    "save_path = p / save_dir / now\n",
    "\n",
    "# Throw error if the temp/save directories already exist.\n",
    "temp_path.mkdir(exist_ok = False) \n",
    "save_path.mkdir(exist_ok = False)\n",
    "\n",
    "#print(\"Processed files will be saved to: \\n{}\" .format(save_path))"
   ]
  },
  {
   "cell_type": "markdown",
   "metadata": {},
   "source": [
    "# Find the files to process\n",
    "Use fuzzy searching to robustly find the logs to process in the open folder (members of the team have difficulty naming things consistently). Fuzzy search implements the Levenshtein distance algorithm."
   ]
  },
  {
   "cell_type": "code",
   "execution_count": 2,
   "metadata": {
    "collapsed": false
   },
   "outputs": [
    {
     "name": "stdout",
     "output_type": "stream",
     "text": [
      "\n",
      "\n",
      "LOOKING FOR FILES IN:\n",
      "/Users/peterdailey/Google Drive/Bike Crash/Code/Bike_Crash_Post_Processing/_Unprocessed_Data\n",
      "\n",
      " MOVING TO:\n",
      "/Users/peterdailey/Google Drive/Bike Crash/Code/Bike_Crash_Post_Processing/_temp\n",
      "\tcalibration.csv...\n",
      "\t100% match. Rename calibration.csv --> calibration.csv\n",
      "\tcadence.csv...\n",
      "\t100% match. Rename cadence.csv --> cadence.csv\n",
      "\tfront_brake.csv...\n",
      "\t100% match. Rename front_brake.csv --> front_brake.csv\n",
      "\trear_brake.csv...\n",
      "\t100% match. Rename rear_brake.csv --> rear_brake.csv\n",
      "\timu.csv...\n",
      "\t 90% match. Rename 20_Hz_IMU.CSV --> imu.csv\n",
      "\tsteering.csv...\n",
      "\t100% match. Rename steering.csv --> steering.csv\n",
      "\twheelspeed.csv...\n",
      "\t100% match. Rename wheelspeed.csv --> wheelspeed.csv\n"
     ]
    }
   ],
   "source": [
    "from fuzzywuzzy import process\n",
    "\n",
    "files = os.listdir(str(open_path))\n",
    "\n",
    "print(\"\\n\\nLOOKING FOR FILES IN:\\n{}\".format(open_path))\n",
    "print(\"\\n MOVING TO:\\n{}\".format(temp_path))\n",
    "    \n",
    "# Search a file that matches each log we are looking for\n",
    "for log in logs:\n",
    "    print(\"\\t{}...\".format(log))\n",
    "    # find the top match\n",
    "    file = process.extractOne(log, files)\n",
    "    src = open_path / file[0]\n",
    "    dest = temp_path / log\n",
    "    os.rename(str(src), str(dest))\n",
    "    print('\\t{0:3d}% match. Rename {2} --> {1}'.format(file[1], log, file[0]))"
   ]
  },
  {
   "cell_type": "markdown",
   "metadata": {},
   "source": [
    "# Convert BBB Time\n",
    "The BBB stores the time the testing started in calibration.csv. This time is not correct, at the BBB does not have an RTC installed currently. Instead, the times are converted to seconds since calibration, and converted from ms to s."
   ]
  },
  {
   "cell_type": "code",
   "execution_count": 3,
   "metadata": {
    "collapsed": false
   },
   "outputs": [
    {
     "name": "stdout",
     "output_type": "stream",
     "text": [
      "Calibrating the time for the following files...\n",
      "\tcadence.csv\n",
      "\tfront_brake.csv\n",
      "\trear_brake.csv\n",
      "\tsteering.csv\n",
      "\twheelspeed.csv\n"
     ]
    }
   ],
   "source": [
    "import pandas as pd\n",
    "\n",
    "# get the start time from the calibration routine\n",
    "src = temp_path / logs[0]\n",
    "df = pd.read_csv(src, index_col=None)\n",
    "t_0 = df[\"Time Zero\"][0]\n",
    "print(\"Calibrating the time for the following files...\")\n",
    "\n",
    "for log in logs:\n",
    "    # Skip calibration and imu. calibration is not a log file, \n",
    "    # imu it is on an arduino with a an independent system time. \n",
    "    if(log != \"calibration.csv\" and log != \"imu.csv\"):\n",
    "        print(\"\\t{}\".format(log))\n",
    "        csv = temp_path / log\n",
    "        df = pd.read_csv(csv, index_col=None)\n",
    "        # get delta t, and convert from ms to s\n",
    "        df[\"Time\"] = (df[\"Time\"] - t_0)/1000\n",
    "        df.to_csv(str(csv), index_col=None)"
   ]
  },
  {
   "cell_type": "markdown",
   "metadata": {},
   "source": [
    "# Checksum\n",
    "Count of the number of bits in a packet that is included with the packet to check whether the same number of bits arrived. If the counts match, it's assumed that the complete transmission was received and the data is valid. "
   ]
  },
  {
   "cell_type": "code",
   "execution_count": 4,
   "metadata": {
    "collapsed": false
   },
   "outputs": [],
   "source": [
    "def validChecksum(st):\n",
    "    try:\n",
    "        # Split the string into the data and the checksum\n",
    "        packet, checksum = st.split(\",*\")\n",
    "        # convert to hex for XOR comparison\n",
    "        checksum = int(checksum, 16)\n",
    "        # Remove leading $ symbol and commas\n",
    "        packet = packet[1:].replace(',', '')\n",
    "        # perform checksum XOR\n",
    "        packet_sum = 0\n",
    "        for char in packet:\n",
    "            packet_sum ^= ord(char)\n",
    "        if(packet_sum == checksum):\n",
    "            return True\n",
    "        else:\n",
    "            return False\n",
    "    except:\n",
    "        return False"
   ]
  },
  {
   "cell_type": "markdown",
   "metadata": {},
   "source": [
    "# Parse IMU/GPS Strings\n",
    "Functions to parse the IMU/GPS strings. Refer to the IMU/UM7 Datacheet for more information on packet structure."
   ]
  },
  {
   "cell_type": "code",
   "execution_count": 5,
   "metadata": {
    "collapsed": false,
    "scrolled": false
   },
   "outputs": [],
   "source": [
    "'''Parses useful data from the GPS Position Packet and appends to a list\n",
    "The NMEA GPS pose packet contains GPS latitude, longitude, and \n",
    "altitude in addition to Euler Angle attitude and GPS heading.\n",
    "\n",
    "Packet Format:\n",
    "$PCHRG,time,latitude,longitude,altitude,roll,pitch,yaw,heading,*checksum\n",
    "'''\n",
    "def parsePositionString(p, time_zero):\n",
    "    if(len(p) > 6):\n",
    "        # GPS was running, avoid null island. \n",
    "        if(p[2] != \"0.000000\"): \n",
    "            p[1] = str(float(p[1]) - time_zero)\n",
    "            # time, lat, long\n",
    "            s = p[1] + \", \" + p[2] + \", \" + p[3]\n",
    "            lst_gps.append(s)\n",
    "         \n",
    "        # time, pitch angle, roll angle, yaw angle\n",
    "        s = str(p[1]) +\", \"+ p[5] +\", \"+ p[6] + \", \"+ p[7]\n",
    "        lst_angle.append(s)\n",
    "             \n",
    "               \n",
    "''' Parses useful data from the Rate Packet and appends to a list\n",
    "The NMEA rate packet contains angular rates and GPS velocities measured \n",
    "by the sensor, if GPS is present.\n",
    "\n",
    "Packet Format:\n",
    "$PCHRR,time,vn,ve,vup,roll_rate,pitch_rate,yaw_rate,*checksum\n",
    "'''\n",
    "def parseRateString(p, time_zero):\n",
    "    if(len(p) > 6):\n",
    "        # GPS Velocity\n",
    "        # time, north velocity, east velocity\n",
    "        p[1] = str(float(p[1]) - time_zero)\n",
    "        s = p[1] + \", \" + p[2] + \", \" + p[3]\n",
    "        lst_gps_vel.append(s)\n",
    "        \n",
    "        # Rates: pitch roll and yaw\n",
    "        # time, pitch rate, roll rate, yaw rate\n",
    "        s = p[1] + \", \" + p[5] + \", \" + p[6] + \", \" + p[7] \n",
    "        lst_rate.append(s)\n",
    " \n",
    "\n",
    "'''Parses useful data from the Sensor Packet and appends to a list\n",
    "The NMEA sensor packet contains gyro, accelerometer, and magnetameter \n",
    "data measured by the sensor.\n",
    "\n",
    "Packet Format:\n",
    "$PCHRS,count,time,sensor_x,sensor_y,sensor_z,*checksum\n",
    "'''\n",
    "def parseSensorString(p, time_zero): \n",
    "    if(len(p) > 4):\n",
    "        p[2] = str(float(p[2]) - time_zero)\n",
    "        # time, sensor x, sensor y, sensor z       \n",
    "        s = p[2] + \", \" + p[3] + \", \" + p[4] + \", \" + p[5] \n",
    "\n",
    "        # Save to proper file.\n",
    "        sensor = int(p[1])   \n",
    "        if(sensor == 0):\n",
    "            lst_gyro.append(s)\n",
    "        elif(sensor == 1):\n",
    "            lst_accel.append(s)\n",
    "        elif(sensor == 2):\n",
    "            lst_mag.append(s)\n",
    "            \n",
    "''' Parses useful data from the Health Packet and appends to a list.\n",
    "The NMEA health packet contains a summary of health-related information, \n",
    "including basic GPS information and sensor status information.\n",
    "\n",
    "\n",
    "Packet Format:\n",
    "$PCHRH,time,sats_used,sats_in_view,HDOP,mode,COM,accel,gyro,mag,GPS,res,res,res,*checks um\n",
    "'''\n",
    "def parseHealthString(p, time_zero):\n",
    "    return False\n",
    "    #TODO, left for compatibility"
   ]
  },
  {
   "cell_type": "markdown",
   "metadata": {},
   "source": [
    "# Process the IMU/GPS File"
   ]
  },
  {
   "cell_type": "code",
   "execution_count": 6,
   "metadata": {
    "collapsed": false
   },
   "outputs": [
    {
     "name": "stdout",
     "output_type": "stream",
     "text": [
      "\n",
      "\n",
      "PROCESSING IMU PACKETS\n"
     ]
    }
   ],
   "source": [
    "import csv\n",
    "import re\n",
    "import fileinput\n",
    "from tqdm import tqdm\n",
    "\n",
    "# List of data that will be seperated into seperate CSV files\n",
    "# Initial entries are headers.\n",
    "lst_accel = []\n",
    "lst_accel.append(\"time,x_accel,y_accel,z_accel\")\n",
    "lst_gyro = []\n",
    "lst_gyro.append(\"time,x_gyro,y_gyro,z_gyro\")\n",
    "lst_mag = []\n",
    "lst_gps = []\n",
    "lst_gps.append(\"time,lat,long\")\n",
    "lst_gps_vel = []\n",
    "lst_gps_vel.append(\"time,vel_east,vel_west\")\n",
    "lst_angle = []\n",
    "lst_angle.append(\"time,pitch_angle,roll_angle,yaw_angle\")\n",
    "lst_rate = []\n",
    "lst_rate.append(\"time,pitch_rate,roll_rate,yaw_rate\")\n",
    "\n",
    "print(\"\\n\\nPROCESSING IMU PACKETS\")\n",
    "\n",
    "\n",
    "# Read the file as a list of strings deliniated by newlines.\n",
    "imu_file = str(temp_path) + \"/\" + logs[4]\n",
    "strings = [line.rstrip('\\n') for line in open(imu_file)]"
   ]
  },
  {
   "cell_type": "markdown",
   "metadata": {},
   "source": [
    "# Extract position and rates from IMU"
   ]
  },
  {
   "cell_type": "code",
   "execution_count": 8,
   "metadata": {
    "collapsed": false
   },
   "outputs": [
    {
     "name": "stderr",
     "output_type": "stream",
     "text": [
      " 50%|█████     | 9390/18702 [00:00<00:00, 45360.03it/s]"
     ]
    },
    {
     "name": "stdout",
     "output_type": "stream",
     "text": [
      "Parsing IMU Packets...\n"
     ]
    },
    {
     "name": "stderr",
     "output_type": "stream",
     "text": [
      "100%|██████████| 18702/18702 [00:00<00:00, 47670.89it/s]"
     ]
    },
    {
     "name": "stdout",
     "output_type": "stream",
     "text": [
      "\\RESULTS:\n",
      "\t18702 packets processed. \n",
      "\t67 of these were corrupted or not identified\n",
      "\t99.64% packets sucessfully identified and processed\n"
     ]
    },
    {
     "name": "stderr",
     "output_type": "stream",
     "text": [
      "\n"
     ]
    }
   ],
   "source": [
    "print(\"Parsing IMU Packets...\")\n",
    "# Filter lines by NMEA type\n",
    "bad_packets = 0\n",
    "total = 0\n",
    "t_0 = 0\n",
    "\n",
    "for s in tqdm(strings):\n",
    "    total += 1\n",
    "    \n",
    "    if(validChecksum(s)):\n",
    "        # Seperate into a list to parse\n",
    "        s = [x.strip() for x in s.split(',')] \n",
    "        \n",
    "        # Synchronize the time difference between the IMU and the BBB\n",
    "        if(t_0 == 0):\n",
    "            if(s[0] == \"$PCHRS\"):\n",
    "                t_0 = float(s[2])\n",
    "            else:\n",
    "                t_0 = float(s[1])\n",
    "\n",
    "        # Switch Statement to handle different data packets\n",
    "        elif(t_0 != 0):\n",
    "            if(s[0] == \"$PCHRG\"):\n",
    "                parsePositionString(s, t_0)\n",
    "            elif(s[0] == \"$PCHRR\"):\n",
    "                parseRateString(s, t_0)\n",
    "            elif(s[0] == \"$PCHRS\"):\n",
    "                parseSensorString(s, t_0) \n",
    "            elif(s[0] == \"$PCHRH\"):\n",
    "                parseHealthString(s, t_0) \n",
    "            else:\n",
    "                bad_packets += 1\n",
    "    else:\n",
    "        bad_packets += 1\n",
    "        \n",
    "percent_success = 100 * (1 - bad_packets/total)\n",
    "\n",
    "print(\"\\RESULTS:\")\n",
    "print(\"\\t{} packets processed. \".format(total))\n",
    "print(\"\\t{} of these were corrupted or not identified\".format(bad_packets))\n",
    "print(\"\\t{:3.2f}% packets sucessfully identified and processed\".format(percent_success))"
   ]
  },
  {
   "cell_type": "code",
   "execution_count": 9,
   "metadata": {
    "collapsed": false
   },
   "outputs": [
    {
     "name": "stdout",
     "output_type": "stream",
     "text": [
      "Extracting GPS, acceleration, euler angles and angular rates from parsed IMU packets\n",
      "\tSaved gps.csv --> _temp/gps.csv\n",
      "\tSaved gps_vel.csv --> _temp/gps_vel.csv\n",
      "\tSaved angles.csv --> _temp/angles.csv\n",
      "\tSaved angular_rates.csv --> _temp/angular_rates.csv\n",
      "\tSaved gyroscope.csv --> _temp/gyroscope.csv\n",
      "\tSaved accelerometer.csv --> _temp/accelerometer.csv\n"
     ]
    }
   ],
   "source": [
    "import fnmatch\n",
    "import os\n",
    "\n",
    "# Save the parsed sentences\n",
    "def saveListToFile(lst, file, dest):\n",
    "    with open(file, \"w\") as f:\n",
    "        for line in lst:\n",
    "            f.write(\"%s\\n\" % line)\n",
    "    dest = dest / file\n",
    "    os.rename(file, str(dest))\n",
    "    print('\\tSaved {0} --> {1}'.format(file, dest.relative_to(p)))\n",
    "            \n",
    "# Save extracted lists to data files\n",
    "print(\"Extracting GPS, acceleration, euler angles and angular rates from parsed IMU packets.\")\n",
    "saveListToFile(lst_gps, \"gps.csv\", temp_path)\n",
    "saveListToFile(lst_gps_vel, \"gps_vel.csv\", temp_path)\n",
    "saveListToFile(lst_angle, \"angles.csv\", temp_path)\n",
    "saveListToFile(lst_rate, \"angular_rates.csv\", temp_path)\n",
    "saveListToFile(lst_gyro, \"gyroscope.csv\", temp_path)\n",
    "saveListToFile(lst_accel, \"accelerometer.csv\", temp_path)"
   ]
  },
  {
   "cell_type": "markdown",
   "metadata": {},
   "source": [
    "# Map the GPS Route\n",
    "\n",
    "The GPS route is mapped using folium and output as an html file"
   ]
  },
  {
   "cell_type": "code",
   "execution_count": 10,
   "metadata": {
    "collapsed": false
   },
   "outputs": [
    {
     "name": "stdout",
     "output_type": "stream",
     "text": [
      "\n",
      "\n",
      "MAPPING GPS\n",
      "Loaded _temp/gps.csv\n"
     ]
    }
   ],
   "source": [
    "import pandas as pd\n",
    "\n",
    "print(\"\\n\\nMAPPING GPS\")\n",
    "src = temp_path / 'gps.csv'\n",
    "\n",
    "# Read the data frame\n",
    "df = pd.read_csv(str(src), index_col=None)\n",
    "print('Loaded {0}'.format(src.relative_to(p)))\n",
    "\n",
    "df = df.apply(lambda x: pd.to_numeric(x, errors='coerce'))"
   ]
  },
  {
   "cell_type": "code",
   "execution_count": 11,
   "metadata": {
    "collapsed": false
   },
   "outputs": [
    {
     "name": "stderr",
     "output_type": "stream",
     "text": [
      "\r",
      "0it [00:00, ?it/s]"
     ]
    },
    {
     "name": "stdout",
     "output_type": "stream",
     "text": [
      "Mapping every 15th point in a set of 920.\n",
      "GPS is sampling at 5Hz, 3s between points.\n",
      "This may take a while for large data sets...\n"
     ]
    },
    {
     "name": "stderr",
     "output_type": "stream",
     "text": [
      "920it [00:01, 497.48it/s]\n"
     ]
    },
    {
     "name": "stdout",
     "output_type": "stream",
     "text": [
      "Map saved to _temp/route_map.html.\n"
     ]
    },
    {
     "data": {
      "text/html": [
       "<div style=\"width:100%;\"><div style=\"position:relative;width:100%;height:0;padding-bottom:60%;\"><iframe src=\"data:text/html;base64,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\" style=\"position:absolute;width:100%;height:100%;left:0;top:0;\"></iframe></div></div>"
      ],
      "text/plain": [
       "<folium.folium.Map at 0x10fb0b630>"
      ]
     },
     "execution_count": 11,
     "metadata": {},
     "output_type": "execute_result"
    }
   ],
   "source": [
    "# Map route from GPS data\n",
    "import folium\n",
    "from tqdm import tqdm\n",
    "\n",
    "# remove intervals between gps updates\n",
    "df = df[::int(pkt_Hz/gps_Hz)]\n",
    "\n",
    "\n",
    "# map every nth lat/long point\n",
    "time_period = 3 # seconds\n",
    "nth = time_period * gps_Hz\n",
    "\n",
    "print('Mapping every {}th point in a set of {}.'.format(nth, df.shape[0]))\n",
    "print('GPS is sampling at {0}Hz, {1}s between points.'.format(gps_Hz, time_period))\n",
    "print('This may take a while for large data sets...')\n",
    "\n",
    "# center the map\n",
    "start_pt = [df[\"lat\"][0], df[\"long\"][0]]\n",
    "map_route = folium.Map(location = start_pt,\n",
    "                       zoom_start=14,\n",
    "                       tiles='Stamen Toner')\n",
    "\n",
    "# tqdm gives a progess bar.\n",
    "for index, row  in tqdm(df.iterrows()):\n",
    "    if(index%nth == 0):\n",
    "        # add info above marker\n",
    "        # note, this time is the time since the gps was turned on. Not synchronized to other measurements.\n",
    "        datum = \"Time: \" + str(df['time'][index]) + \" sec\"\n",
    "        # format [lat, long]\n",
    "        point = [df['lat'][index], df['long'][index]]\n",
    "        folium.Marker(point, popup=datum).add_to(map_route)\n",
    "\n",
    "# Save the map as an HTML file\n",
    "dest = temp_path / 'route_map.html'\n",
    "map_route.save(str(dest))\n",
    "print('Map saved to {}.'.format(dest.relative_to(p)))\n",
    "map_route"
   ]
  },
  {
   "cell_type": "markdown",
   "metadata": {},
   "source": [
    "# Create Plots using R"
   ]
  },
  {
   "cell_type": "code",
   "execution_count": 12,
   "metadata": {
    "collapsed": false
   },
   "outputs": [],
   "source": [
    "import subprocess\n",
    "\n",
    "if(graphing):\n",
    "    rscript = p / \"Plot_Ride_Data.R\"\n",
    "\n",
    "    # make script executable. Uses octal form\n",
    "    # representation. needs an integer, not a string. 0777 == 511.\n",
    "    rscript.chmod(511)\n",
    "\n",
    "    print(\"\\n\\nGENERATING PLOTS IN R\")\n",
    "    print('This may take a while...')\n",
    "\n",
    "\n",
    "    # TODO - Set timeout?\n",
    "    subprocess.run(\"./Plot_Ride_Data.R | R --vanilla | less\", shell=True, check=True, timeout = 120)\n",
    "    print(\"Plots saved to R_Plots.pdf\")"
   ]
  },
  {
   "cell_type": "markdown",
   "metadata": {},
   "source": [
    "# Save the files to a Time-Stamped Directory"
   ]
  },
  {
   "cell_type": "code",
   "execution_count": 13,
   "metadata": {
    "collapsed": false,
    "scrolled": true
   },
   "outputs": [
    {
     "name": "stdout",
     "output_type": "stream",
     "text": [
      "\n",
      "\n",
      "SAVING FILES TO /Users/peterdailey/Google Drive/Bike Crash/Code/Bike_Crash_Post_Processing/_Processed_Data/05.31.2016@15.22\n",
      "\n",
      "\tSaved _temp/accelerometer.csv --> _Processed_Data/05.31.2016@15.22/accelerometer.csv\n",
      "\tSaved _temp/angles.csv --> _Processed_Data/05.31.2016@15.22/angles.csv\n",
      "\tSaved _temp/angular_rates.csv --> _Processed_Data/05.31.2016@15.22/angular_rates.csv\n",
      "\tSaved _temp/cadence.csv --> _Processed_Data/05.31.2016@15.22/cadence.csv\n",
      "\tSaved _temp/calibration.csv --> _Processed_Data/05.31.2016@15.22/calibration.csv\n",
      "\tSaved _temp/front_brake.csv --> _Processed_Data/05.31.2016@15.22/front_brake.csv\n",
      "\tSaved _temp/gps.csv --> _Processed_Data/05.31.2016@15.22/gps.csv\n",
      "\tSaved _temp/gps_vel.csv --> _Processed_Data/05.31.2016@15.22/gps_vel.csv\n",
      "\tSaved _temp/gyroscope.csv --> _Processed_Data/05.31.2016@15.22/gyroscope.csv\n",
      "\tSaved _temp/imu.csv --> _Processed_Data/05.31.2016@15.22/imu.csv\n",
      "\tSaved _temp/rear_brake.csv --> _Processed_Data/05.31.2016@15.22/rear_brake.csv\n",
      "\tSaved _temp/route_map.html --> _Processed_Data/05.31.2016@15.22/route_map.html\n",
      "\tSaved _temp/steering.csv --> _Processed_Data/05.31.2016@15.22/steering.csv\n",
      "\tSaved _temp/wheelspeed.csv --> _Processed_Data/05.31.2016@15.22/wheelspeed.csv\n"
     ]
    }
   ],
   "source": [
    "# Save the remaining files \n",
    "print(\"\\n\\nSAVING FILES TO {}\\n\".format(save_path))\n",
    "\n",
    "for file in os.listdir(str(temp_path)):\n",
    "#    if fnmatch.fnmatch(file, '*.csv'):\n",
    "    src = temp_path / file\n",
    "    dest = save_path / file\n",
    "    os.rename(str(src), str(dest))\n",
    "    print('\\tSaved {0} --> {1}'.format(src.relative_to(p), dest.relative_to(p)))\n",
    "\n",
    "temp_path.rmdir()\n"
   ]
  },
  {
   "cell_type": "code",
   "execution_count": null,
   "metadata": {
    "collapsed": true
   },
   "outputs": [],
   "source": []
  }
 ],
 "metadata": {
  "kernelspec": {
   "display_name": "Python 3",
   "language": "python",
   "name": "python3"
  },
  "language_info": {
   "codemirror_mode": {
    "name": "ipython",
    "version": 3
   },
   "file_extension": ".py",
   "mimetype": "text/x-python",
   "name": "python",
   "nbconvert_exporter": "python",
   "pygments_lexer": "ipython3",
   "version": "3.5.1"
  }
 },
 "nbformat": 4,
 "nbformat_minor": 0
}
