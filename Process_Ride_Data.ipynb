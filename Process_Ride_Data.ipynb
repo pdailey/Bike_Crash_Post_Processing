{
 "cells": [
  {
   "cell_type": "markdown",
   "metadata": {},
   "source": [
    "# Open Files \n",
    "Open the files for processing. Create a save directory using the timestamp from the calibration CSV. "
   ]
  },
  {
   "cell_type": "code",
   "execution_count": null,
   "metadata": {
    "collapsed": false
   },
   "outputs": [],
   "source": [
    "import os\n",
    "import fnmatch\n",
    "from pathlib import *\n",
    "import arrow\n",
    "\n",
    "# Set true to graph the data using R\n",
    "graphing = False\n",
    "\n",
    "# Set the the packet rates\n",
    "pkt_Hz = 20 #position packet update rate Hz\n",
    "gps_Hz = 5  #gps update rate Hz\n",
    "\n",
    "# Expected files from a single ride\n",
    "logs = [\"calibration.csv\", \\\n",
    "        \"cadence.csv\",\\\n",
    "        \"front_brake.csv\", \\\n",
    "        \"rear_brake.csv\", \\\n",
    "        \"imu.csv\", \\\n",
    "        \"steering.csv\", \\\n",
    "        \"wheelspeed.csv\"]\n",
    "\n",
    "# Directories to organize data\n",
    "p = Path('.').resolve()\n",
    "\n",
    "open_dir = 'Unprocessed_Data'\n",
    "save_dir = 'Processed_Data'\n",
    "temp_dir = 'temp'\n",
    "\n",
    "# Set Default Datetime to name folder where logs are stored\n",
    "now = arrow.utcnow().to(\"US/Pacific\")\n",
    "print(\"BEGIN PROCESSING DATA\")\n",
    "print(\"Data processed on {} at {}\".format(now.format('MM/DD/YYYY'), now.format('HH:mm:ss')))\n",
    "\n",
    "now = str(now.format('MM.DD.YYYY@HH.mm'))\n",
    "\n",
    "'''\n",
    "# TODO: IMPLEMENT WITH RTC ONBOARD. This will change the order of the \n",
    "# Get the time that the ride took place from the calibration \n",
    "# routine and make a save directory for the files\n",
    "for file in os.listdir(str(open_path)):\n",
    "    if fnmatch.fnmatch(file, \"*\" + logs[0]):\n",
    "        d = os.path.basename(file).split('_')[0]\n",
    "'''\n",
    "\n",
    "open_path = p / open_dir\n",
    "temp_path = p / temp_dir\n",
    "save_path = p / save_dir / now\n",
    "\n",
    "# Throw error if the temp/save directories already exist.\n",
    "temp_path.mkdir(exist_ok = False) \n",
    "save_path.mkdir(exist_ok = False)\n",
    "\n",
    "#print(\"Processed files will be saved to: \\n{}\" .format(save_path))"
   ]
  },
  {
   "cell_type": "markdown",
   "metadata": {},
   "source": [
    "# Find the files to process\n",
    "Use fuzzy searching to robustly find the logs to process in the open folder (members of the team have difficulty naming things consistently). Fuzzy search implements the Levenshtein distance algorithm."
   ]
  },
  {
   "cell_type": "code",
   "execution_count": null,
   "metadata": {
    "collapsed": false
   },
   "outputs": [],
   "source": [
    "from fuzzywuzzy import process\n",
    "\n",
    "files = os.listdir(str(open_path))\n",
    "\n",
    "print(\"\\n\\nLOOKING FOR FILES IN:\\n{}\".format(open_path))\n",
    "print(\"\\n MOVING TO:\\n{}\".format(temp_path))\n",
    "\n",
    "# Search a file that matches each log we are looking for\n",
    "for log in logs:\n",
    "    print(\"\\t{}\".format(log))\n",
    "    # find the top match\n",
    "    file = process.extractOne(log, files)\n",
    "    \n",
    "    src = open_path / file[0]\n",
    "    dest = temp_path / log\n",
    "    os.rename(str(src), str(dest))\n",
    "    print('\\t{0:3d}% match. Rename {2} --> {1}\\n'.format(file[1], log, file[0]))"
   ]
  },
  {
   "cell_type": "markdown",
   "metadata": {},
   "source": [
    "# Parse IMU/GPS Strings\n",
    "Functions to parse the IMU/GPS strings"
   ]
  },
  {
   "cell_type": "code",
   "execution_count": null,
   "metadata": {
    "collapsed": false,
    "scrolled": false
   },
   "outputs": [],
   "source": [
    "\n",
    "'''Parses useful data from the GPS Position Packet and appends to a list\n",
    "The NMEA GPS pose packet contains GPS latitude, longitude, and \n",
    "altitude in addition to Euler Angle attitude and GPS heading.\n",
    "\n",
    "Packet Format:\n",
    "$PCHRG,time,latitude,longitude,altitude,roll,pitch,yaw,heading,*checksum\n",
    "'''\n",
    "def parsePositionString(p):\n",
    "    if(len(p) > 6):\n",
    "        # GPS was running, avoid null island. \n",
    "        if(p[2] != \"0.000000\"): \n",
    "            # time, lat, long\n",
    "            s = p[1] + \", \" + p[2] + \", \" + p[3]\n",
    "            lst_gps.append(s)\n",
    "         \n",
    "        # time, pitch angle, roll angle, yaw angle\n",
    "        s = p[1] +\", \"+ p[5] +\", \"+ p[6] + \", \"+ p[7]\n",
    "        lst_angle.append(s)\n",
    "             \n",
    "               \n",
    "''' Parses useful data from the Rate Packet and appends to a list\n",
    "The NMEA rate packet contains angular rates and GPS velocities measured \n",
    "by the sensor, if GPS is present.\n",
    "\n",
    "Packet Format:\n",
    "$PCHRR,time,vn,ve,vup,roll_rate,pitch_rate,yaw_rate,*checksum\n",
    "'''\n",
    "def parseRateString(p):\n",
    "    if(len(p) > 6):\n",
    "        # GPS Velocity\n",
    "        # time, north velocity, east velocity\n",
    "        s = p[1] + \", \" + p[2] + \", \" + p[3]\n",
    "        lst_gps_vel.append(s)\n",
    "        \n",
    "        # Rates: pitch roll and yaw\n",
    "        # time, pitch rate, roll rate, yaw rate\n",
    "        s = p[1] + \", \" + p[5] + \", \" + p[6] + \", \" + p[7] \n",
    "        lst_rate.append(s)\n",
    " \n",
    "\n",
    "'''Parses useful data from the Sensor Packet and appends to a list\n",
    "The NMEA sensor packet contains gyro, accelerometer, and magnetometer \n",
    "data measured by the sensor.\n",
    "\n",
    "Packet Format:\n",
    "$PCHRS,count,time,sensor_x,sensor_y,sensor_z,*checksum\n",
    "'''\n",
    "def parseSensorString(p): \n",
    "    if(len(p) > 4):\n",
    "        # time, sensor x, sensor y, sensor z\n",
    "        s = p[2] + \", \" + p[3] + \", \" + p[4] + \", \" + p[5] \n",
    "\n",
    "        # Save to proper file. Magnotometer data is discarded\n",
    "        sensor = int(p[1])   \n",
    "        if(sensor == 0):\n",
    "            lst_gyro.append(s)\n",
    "        elif(sensor == 1):\n",
    "            lst_accel.append(s)\n",
    "            \n",
    "''' Parses useful data from the Health Packet and appends to a list.\n",
    "The NMEA health packet contains a summary of health-related information, \n",
    "including basic GPS information and sensor status information.\n",
    "\n",
    "\n",
    "Packet Format:\n",
    "$PCHRH,time,sats_used,sats_in_view,HDOP,mode,COM,accel,gyro,mag,GPS,res,res,res,*checks um\n",
    "'''\n",
    "def parseHealthString(p):\n",
    "    return False\n",
    "    #TODO, left for compatibility"
   ]
  },
  {
   "cell_type": "markdown",
   "metadata": {},
   "source": [
    "# Checksum\n",
    "Filter bad data."
   ]
  },
  {
   "cell_type": "code",
   "execution_count": null,
   "metadata": {
    "collapsed": false
   },
   "outputs": [],
   "source": [
    "def validChecksum(st):\n",
    "    try:\n",
    "        # Split the string into the data and the checksum\n",
    "        packet, checksum = st.split(\",*\")\n",
    "        \n",
    "        # convert to hex for XOR comparison\n",
    "        checksum = int(checksum, 16)\n",
    "        \n",
    "        # Remove leading $ symbol and commas\n",
    "        packet = packet[1:].replace(',', '')\n",
    "        \n",
    "        # perform checksum XOR\n",
    "        packet_sum = 0\n",
    "        for char in packet:\n",
    "            packet_sum ^= ord(char)\n",
    "\n",
    "        if(packet_sum == checksum):\n",
    "            return True\n",
    "        else:\n",
    "            return False\n",
    "    \n",
    "    except:\n",
    "        return False"
   ]
  },
  {
   "cell_type": "markdown",
   "metadata": {},
   "source": [
    "# Process the IMU/GPS File"
   ]
  },
  {
   "cell_type": "code",
   "execution_count": null,
   "metadata": {
    "collapsed": false
   },
   "outputs": [],
   "source": [
    "import csv\n",
    "import re\n",
    "import fileinput\n",
    "from tqdm import tqdm\n",
    "\n",
    "# List of data that will be seperated into seperate CSV files\n",
    "# Initial entries are headers.\n",
    "lst_accel = []\n",
    "lst_gyro = []\n",
    "lst_gps = []\n",
    "lst_angle = []\n",
    "lst_rate = []\n",
    "lst_gps_vel = []\n",
    "lst_accel.append(\"time,x_accel,y_accel,z_accel\")\n",
    "lst_gyro.append(\"time,x_gyro,y_gyro,z_gyro\")\n",
    "lst_gps.append(\"time,lat,long\")\n",
    "lst_angle.append(\"time,pitch_angle,roll_angle,yaw_angle\")\n",
    "lst_rate.append(\"time,pitch_rate,roll_rate,yaw_rate\")\n",
    "lst_gps_vel.append(\"time,vel_east,vel_west\")\n",
    "\n",
    "print(\"\\n\\nPROCESSING IMU PACKETS\")\n",
    "\n",
    "imu_file = str(temp_path) + \"/\" + logs[4]\n",
    "\n",
    "strings = [line.rstrip('\\n') for line in open(imu_file)]\n",
    "\n",
    "#for line in fileinput.input(imu_file, inplace=True):\n",
    "    # inside this loop the STDOUT will be redirected to the file\n",
    "    # the comma after each print statement is needed to avoid double line breaks\n",
    "#    print(line.replace(\"$\", \"\\n$\"),)\n",
    "\n",
    "# Get a list of strings to parse\n",
    "#strings = [re.findall(r'[A-Z]{5}\\S*', line) for line in open(imu_file)]\n",
    "\n",
    "#strings = [re.findall(r'[A-Z]{5}\\S*', line) for line in open(imu_file)]\n",
    "\n",
    "#print(strings)\n",
    "# We only care about non-empty strings\n",
    "#strings = filter(None, strings)\n",
    "  \n"
   ]
  },
  {
   "cell_type": "code",
   "execution_count": null,
   "metadata": {
    "collapsed": false
   },
   "outputs": [],
   "source": [
    "print(\"Parsing IMU Packets...\")\n",
    "# Filter lines by NMEA type\n",
    "bad_packets = 0\n",
    "total = 0\n",
    "for string in tqdm(strings):\n",
    "    total += 1\n",
    "    \n",
    "    if(validChecksum(string)):\n",
    "        # Seperate into a list to parse\n",
    "        string = [x.strip() for x in string.split(',')] \n",
    "        \n",
    "        # Switch Statement to handle different data packets\n",
    "        if(string[0] == \"$PCHRG\"):\n",
    "            parsePositionString(string)\n",
    "        elif(string[0] == \"$PCHRR\"):\n",
    "            parseRateString(string)\n",
    "        elif(string[0] == \"$PCHRS\"):\n",
    "            parseSensorString(string) \n",
    "        elif(string[0] == \"$PCHRH\"):\n",
    "            parseHealthString(string) \n",
    "        else:\n",
    "            bad_packets += 1\n",
    "    else:\n",
    "        bad_packets += 1\n",
    "\n",
    "        \n",
    "percent_success = 100 * (1 - bad_packets/total)\n",
    "        \n",
    "print(\"\\RESULTS:\")\n",
    "print(\"\\t{} packets processed. \".format(total))\n",
    "print(\"\\t{} of these were corrupted or not identified\".format(bad_packets))\n",
    "print(\"\\t{:3.2f}% packets sucessfully identified and processed\".format(percent_success))"
   ]
  },
  {
   "cell_type": "code",
   "execution_count": null,
   "metadata": {
    "collapsed": false
   },
   "outputs": [],
   "source": [
    "import fnmatch\n",
    "import os\n",
    "\n",
    "# Save the parsed sentences\n",
    "def saveFile(lst, file, dest):\n",
    "    with open(file, \"w\") as f:\n",
    "        for line in lst:\n",
    "            f.write(\"%s\\n\" % line)\n",
    "    \n",
    "    dest = dest / file\n",
    "    os.rename(file, str(dest))\n",
    "    print('\\tSaved {0} --> {1}'.format(file, dest.relative_to(p)))\n",
    "            \n",
    "\n",
    "# Save extracted lists to data files\n",
    "print(\"Extracting GPS, acceleration, euler angles and angular rates from parsed IMU packets\")\n",
    "saveFile(lst_gps, \"gps.csv\", temp_path)\n",
    "saveFile(lst_angle, \"angles.csv\", temp_path)\n",
    "saveFile(lst_rate, \"angular_rates.csv\", temp_path)\n",
    "saveFile(lst_gyro, \"gyroscope.csv\", temp_path)\n",
    "saveFile(lst_accel, \"accelerometer.csv\", temp_path)"
   ]
  },
  {
   "cell_type": "markdown",
   "metadata": {},
   "source": [
    "# Extract position and rates from IMU"
   ]
  },
  {
   "cell_type": "markdown",
   "metadata": {},
   "source": [
    "# Map the GPS Route\n",
    "\n",
    "The GPS route is mapped using folium and output as an html file"
   ]
  },
  {
   "cell_type": "code",
   "execution_count": null,
   "metadata": {
    "collapsed": false
   },
   "outputs": [],
   "source": [
    "import pandas as pd\n",
    "\n",
    "print(\"\\n\\nMAPPING GPS\")\n",
    "src = temp_path / 'gps.csv'\n",
    "\n",
    "# Read the data frame\n",
    "df = pd.read_csv(str(src), index_col=None)\n",
    "print('Loaded {0}'.format(src.relative_to(p)))\n",
    "\n",
    "df.apply(lambda x: pd.to_numeric(x, errors='coerce'))\n",
    "\n",
    "# Convert time from a string\n",
    "df['time'] = df['time'].convert_objects(convert_numeric=True)\n",
    "\n",
    "# Show A summary of the data\n",
    "#df.describe()\n",
    "#df.head(n=10)\n",
    "#df.dtypes"
   ]
  },
  {
   "cell_type": "code",
   "execution_count": null,
   "metadata": {
    "collapsed": false
   },
   "outputs": [],
   "source": [
    "\n"
   ]
  },
  {
   "cell_type": "code",
   "execution_count": null,
   "metadata": {
    "collapsed": false
   },
   "outputs": [],
   "source": [
    "# Map route from GPS data\n",
    "import folium\n",
    "from tqdm import tqdm\n",
    "\n",
    "# Zero the sensor time, setting zero at when the tests began\n",
    "# TODO: Convert all times....\n",
    "#df['time'] - df['time'][1]\n",
    "\n",
    "\n",
    "\n",
    "\n",
    "# remove intervals between gps updates\n",
    "df = df[::int(pkt_Hz/gps_Hz)]\n",
    "\n",
    "# map every nth lat/long point\n",
    "time_period = 3 # seconds\n",
    "nth = time_period * gps_Hz\n",
    "\n",
    "print('Mapping every {}th point in a set of {}.'.format(nth, df.shape[0]))\n",
    "print('GPS is sampling at {0}Hz, {1}s between points.'.format(gps_Hz, time_period))\n",
    "print('This may take a while for large data sets...')\n",
    "\n",
    "# center the map\n",
    "start_pt = [df[\"lat\"][0], df[\"long\"][0]]\n",
    "map_route = folium.Map(location = start_pt,\n",
    "                       zoom_start=14,\n",
    "                       tiles='Stamen Toner')\n",
    "\n",
    "# tqdm gives a progess bar.\n",
    "for index, row  in tqdm(df.iterrows()):\n",
    "    if(index%nth == 0):\n",
    "        # add info above marker\n",
    "        # note, this time is the time since the gps was turned on. Not synchronized to other measurements.\n",
    "        datum = \"Time: \" + str(df['time'][index]) + \" sec\"\n",
    "        # format [lat, long]\n",
    "        point = [df['lat'][index], df['long'][index]]\n",
    "        folium.Marker(point, popup=datum).add_to(map_route)\n",
    "\n",
    "#mappy = plotPoints(latlong, nth)\n",
    "dest = temp_path / 'route_map.html'\n",
    "map_route.save( str(dest))\n",
    "\n",
    "print('Map saved to {}.'.format(dest.relative_to(p)))\n",
    "map_route"
   ]
  },
  {
   "cell_type": "markdown",
   "metadata": {},
   "source": [
    "# Create Plots using R"
   ]
  },
  {
   "cell_type": "code",
   "execution_count": null,
   "metadata": {
    "collapsed": false
   },
   "outputs": [],
   "source": [
    "import subprocess\n",
    "\n",
    "if(graphing):\n",
    "    rscript = p / \"Plot_Ride_Data.R\"\n",
    "\n",
    "    # make script executable. Uses octal form\n",
    "    # representation. needs an integer, not a string. 0777 == 511.\n",
    "    rscript.chmod(511)\n",
    "\n",
    "    print(\"\\n\\nGENERATING PLOTS IN R\")\n",
    "    print('This may take a while...')\n",
    "\n",
    "\n",
    "    # TODO - Set timeout?\n",
    "    subprocess.run(\"./Plot_Ride_Data.R | R --vanilla | less\", shell=True, check=True, timeout = 120)\n",
    "    print(\"Plots saved to R_Plots.pdf\")"
   ]
  },
  {
   "cell_type": "markdown",
   "metadata": {},
   "source": [
    "# Save the files to a Time-Stamped Directory"
   ]
  },
  {
   "cell_type": "code",
   "execution_count": null,
   "metadata": {
    "collapsed": false,
    "scrolled": true
   },
   "outputs": [],
   "source": [
    "# Save the remaining files \n",
    "print(\"\\n\\nSAVING FILES TO {}\\n\".format(save_path))\n",
    "\n",
    "for file in os.listdir(str(temp_path)):\n",
    "#    if fnmatch.fnmatch(file, '*.csv'):\n",
    "    src = temp_path / file\n",
    "    dest = save_path / file\n",
    "    os.rename(str(src), str(dest))\n",
    "    print('\\tSaved {0} --> {1}'.format(src.relative_to(p), dest.relative_to(p)))\n",
    "\n",
    "temp_path.rmdir()\n"
   ]
  },
  {
   "cell_type": "code",
   "execution_count": null,
   "metadata": {
    "collapsed": true
   },
   "outputs": [],
   "source": []
  }
 ],
 "metadata": {
  "kernelspec": {
   "display_name": "Python 3",
   "language": "python",
   "name": "python3"
  },
  "language_info": {
   "codemirror_mode": {
    "name": "ipython",
    "version": 3
   },
   "file_extension": ".py",
   "mimetype": "text/x-python",
   "name": "python",
   "nbconvert_exporter": "python",
   "pygments_lexer": "ipython3",
   "version": "3.5.1"
  }
 },
 "nbformat": 4,
 "nbformat_minor": 0
}
